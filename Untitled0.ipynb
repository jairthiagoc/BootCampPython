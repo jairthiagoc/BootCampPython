{
  "nbformat": 4,
  "nbformat_minor": 0,
  "metadata": {
    "colab": {
      "provenance": [],
      "authorship_tag": "ABX9TyPSEn+h27yzt27yAZoZ63Km",
      "include_colab_link": true
    },
    "kernelspec": {
      "name": "python3",
      "display_name": "Python 3"
    },
    "language_info": {
      "name": "python"
    }
  },
  "cells": [
    {
      "cell_type": "markdown",
      "metadata": {
        "id": "view-in-github",
        "colab_type": "text"
      },
      "source": [
        "<a href=\"https://colab.research.google.com/github/jairthiagoc/BootCampPython/blob/main/Untitled0.ipynb\" target=\"_parent\"><img src=\"https://colab.research.google.com/assets/colab-badge.svg\" alt=\"Open In Colab\"/></a>"
      ]
    },
    {
      "cell_type": "code",
      "execution_count": 2,
      "metadata": {
        "colab": {
          "base_uri": "https://localhost:8080/"
        },
        "id": "2_UtBYO0bvZU",
        "outputId": "062f0568-1171-445a-8f99-5369625c558d"
      },
      "outputs": [
        {
          "output_type": "stream",
          "name": "stdout",
          "text": [
            "Ola Jair Thiago Cardoso Manoel Seja bem-vindo!!!!\n",
            "Resultado das listas\n",
            "Lista de numeros menores que 5 [0, 1, 2, 3, 4]\n",
            "Lista de numeros maior que 5 [6, 7, 8, 9]\n"
          ]
        }
      ],
      "source": [
        "from re import M\n",
        "nome = 'Jair Thiago Cardoso Manoel'\n",
        "print('Ola', nome,'Seja bem-vindo!!!!')\n",
        "\n",
        "limiar = 5 #Numero definido como filtro para a separacao das listas.\n",
        "\n",
        "listaMenores = [] #Lista de numeros menores\n",
        "listaMaiores = [] #Lista de numeros maiores\n",
        "#Varre os numeros e 1 ate 10\n",
        "for i in range(10):\n",
        "  #verifica se o numero gerado e menor que o numero setado como meio\n",
        "  if(i < limiar):\n",
        "    #adiciona a lista de numeros menores\n",
        "    listaMenores.append(i)\n",
        "    #verifica se o numero gerado e maior que o numero setado como meio\n",
        "  elif (i > limiar):\n",
        "    #adiciona a lista de numeros maiores\n",
        "    listaMaiores.append(i)\n",
        "#Imprime o resultado do filtro das listas.\n",
        "print('Resultado das listas')\n",
        "print('Lista de numeros menores que 5', listaMenores)\n",
        "print('Lista de numeros maior que 5', listaMaiores)\n",
        "  "
      ]
    }
  ]
}